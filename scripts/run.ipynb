{
 "cells": [
  {
   "cell_type": "code",
   "execution_count": 2,
   "id": "88cb040f",
   "metadata": {},
   "outputs": [
    {
     "name": "stderr",
     "output_type": "stream",
     "text": [
      "run_scotus.sh: line 8: python: command not found\n",
      "run_scotus.sh: line 10: python: command not found\n",
      "run_scotus.sh: line 12: python: command not found\n",
      "run_scotus.sh: line 14: python: command not found\n",
      "run_scotus.sh: line 16: python: command not found\n",
      "run_scotus.sh: line 18: python: command not found\n"
     ]
    }
   ],
   "source": [
    "!bash run_scotus.sh"
   ]
  },
  {
   "cell_type": "code",
   "execution_count": null,
   "id": "6f3f6e58",
   "metadata": {},
   "outputs": [],
   "source": []
  }
 ],
 "metadata": {
  "kernelspec": {
   "display_name": "Python 3",
   "language": "python",
   "name": "python3"
  },
  "language_info": {
   "codemirror_mode": {
    "name": "ipython",
    "version": 3
   },
   "file_extension": ".py",
   "mimetype": "text/x-python",
   "name": "python",
   "nbconvert_exporter": "python",
   "pygments_lexer": "ipython3",
   "version": "3.8.8"
  }
 },
 "nbformat": 4,
 "nbformat_minor": 5
}
